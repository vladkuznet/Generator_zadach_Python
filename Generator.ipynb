{
  "nbformat": 4,
  "nbformat_minor": 0,
  "metadata": {
    "colab": {
      "provenance": [],
      "authorship_tag": "ABX9TyMuXY5/hq5IVEzPuWJsgsH6",
      "include_colab_link": true
    },
    "kernelspec": {
      "name": "python3",
      "display_name": "Python 3"
    },
    "language_info": {
      "name": "python"
    }
  },
  "cells": [
    {
      "cell_type": "markdown",
      "metadata": {
        "id": "view-in-github",
        "colab_type": "text"
      },
      "source": [
        "<a href=\"https://colab.research.google.com/github/vladkuznet/Generator_zadach_Python/blob/main/Generator.ipynb\" target=\"_parent\"><img src=\"https://colab.research.google.com/assets/colab-badge.svg\" alt=\"Open In Colab\"/></a>"
      ]
    },
    {
      "cell_type": "markdown",
      "source": [
        "#Импорт библиотек для работы"
      ],
      "metadata": {
        "id": "vgfFaG-SIDx2"
      }
    },
    {
      "cell_type": "code",
      "execution_count": 30,
      "metadata": {
        "id": "0pIUCVukSFIM"
      },
      "outputs": [],
      "source": [
        "import pandas as pd\n",
        "import numpy as np\n",
        "\n",
        "import random\n",
        "# random.seed(42)"
      ]
    },
    {
      "cell_type": "markdown",
      "source": [
        "#Примеры задач"
      ],
      "metadata": {
        "id": "0a-twhmPIIKk"
      }
    },
    {
      "cell_type": "code",
      "source": [
        "L = [0, 4] * 2\n",
        "L[-1] = 14\n",
        "L[-1] = -5\n",
        "a = 2\n",
        "L[a] = 9\n",
        "L[a + 1] = 4\n",
        "print(L*2)"
      ],
      "metadata": {
        "colab": {
          "base_uri": "https://localhost:8080/"
        },
        "id": "kglTFmrkXS1q",
        "outputId": "babf0b9a-cbbd-463b-9741-617d5c2c31c2"
      },
      "execution_count": 2,
      "outputs": [
        {
          "output_type": "stream",
          "name": "stdout",
          "text": [
            "[0, 4, 9, 4, 0, 4, 9, 4]\n"
          ]
        }
      ]
    },
    {
      "cell_type": "code",
      "source": [
        "import numpy as np\n",
        "A = np.zeros(5) + 7\n",
        "A[-1] = 4\n",
        "A[-1] = 8\n",
        "b = 2\n",
        "A[b] = 11\n",
        "A[b + 1] = 11\n",
        "print(A * 2)"
      ],
      "metadata": {
        "colab": {
          "base_uri": "https://localhost:8080/"
        },
        "id": "lHhW-8p9XTNa",
        "outputId": "a0d65256-6105-48a0-e94c-9ada1d006898"
      },
      "execution_count": 3,
      "outputs": [
        {
          "output_type": "stream",
          "name": "stdout",
          "text": [
            "[14. 14. 22. 22. 16.]\n"
          ]
        }
      ]
    },
    {
      "cell_type": "code",
      "source": [
        "def f(a, b, c):\n",
        "    return 8\n",
        "\n",
        "\n",
        "a = 11\n",
        "b = 14\n",
        "c = 5\n",
        "print(f(a, b, c) * 2)"
      ],
      "metadata": {
        "colab": {
          "base_uri": "https://localhost:8080/"
        },
        "id": "CYHP2FrLXV96",
        "outputId": "a8cc5131-9e56-4972-81bf-77ca76d383b4"
      },
      "execution_count": 4,
      "outputs": [
        {
          "output_type": "stream",
          "name": "stdout",
          "text": [
            "16\n"
          ]
        }
      ]
    },
    {
      "cell_type": "code",
      "source": [
        "def f(a, b, c):\n",
        "    return a + b * 2\n",
        "\n",
        "\n",
        "a = 11\n",
        "b = 14\n",
        "c = 5\n",
        "print(f(1, 3, c) * 2)"
      ],
      "metadata": {
        "colab": {
          "base_uri": "https://localhost:8080/"
        },
        "id": "LvV5WaxlXZiD",
        "outputId": "a032e749-43f1-4582-886b-704628911c87"
      },
      "execution_count": 5,
      "outputs": [
        {
          "output_type": "stream",
          "name": "stdout",
          "text": [
            "14\n"
          ]
        }
      ]
    },
    {
      "cell_type": "code",
      "source": [
        "def f(a, b, c):\n",
        "    return a * b / 10\n",
        "\n",
        "\n",
        "a = 8\n",
        "b = 16\n",
        "c = 8\n",
        "print(f(1, c, 6) * 2)"
      ],
      "metadata": {
        "colab": {
          "base_uri": "https://localhost:8080/"
        },
        "id": "0f1R57GeXcHZ",
        "outputId": "21b704a4-0b25-48ba-b82d-63d6e1e569fe"
      },
      "execution_count": 6,
      "outputs": [
        {
          "output_type": "stream",
          "name": "stdout",
          "text": [
            "1.6\n"
          ]
        }
      ]
    },
    {
      "cell_type": "code",
      "source": [
        "def f(a, b, c):\n",
        "    return a * b / 10 + 2\n",
        "\n",
        "\n",
        "a = 11\n",
        "b = 14\n",
        "c = 5\n",
        "L = []\n",
        "for i in range(4):\n",
        "    L.append(f(i, b, c))\n",
        "print(L * 2)"
      ],
      "metadata": {
        "colab": {
          "base_uri": "https://localhost:8080/"
        },
        "id": "x9kMawbbXevx",
        "outputId": "ac3b4fa8-4e98-46e8-95c7-80f0bcb668f1"
      },
      "execution_count": 31,
      "outputs": [
        {
          "output_type": "stream",
          "name": "stdout",
          "text": [
            "[2.0, 3.4, 4.8, 6.2, 2.0, 3.4, 4.8, 6.2]\n"
          ]
        }
      ]
    },
    {
      "cell_type": "markdown",
      "source": [
        "#Функции для генерации текста задач"
      ],
      "metadata": {
        "id": "wiU3HdM8INt9"
      }
    },
    {
      "cell_type": "code",
      "source": [
        "def zad_1(f=1):\n",
        "    x1 = random.randint(0, 5)\n",
        "    L1 = random.randint(4, 6)\n",
        "    zn1 = random.randint(-20, 20)\n",
        "    zn2 = random.randint(-20, 20)\n",
        "    a = random.randint(2, L1-1)\n",
        "    zn3 = random.randint(-20, 20)\n",
        "    zn4 = random.randint(-20, 20)\n",
        "    if f:\n",
        "        print(f'1 L = [0, {x1}] * {L1}\\n2 L[-1] = {zn1}\\n3 L[-1] = {zn2}\\n4 a = {a}\\n5 L[a] = {zn3}\\n6 L[a + 1] = {zn4}\\n7 print(L*2)')\n",
        "    else:\n",
        "        print(f'L = [0, {x1}] * {L1}\\nL[-1] = {zn1}\\nL[-1] = {zn2}\\na = {a}\\nL[a] = {zn3}\\nL[a + 1] = {zn4}\\nprint(L*2)')\n",
        "\n",
        "def zad_2(f=1):\n",
        "    L1 = random.randint(4, 6)\n",
        "    x1 = random.randint(5, 7)\n",
        "    zn1 = random.randint(-20, 20)\n",
        "    zn2 = random.randint(-20, 20)\n",
        "    b = random.randint(2, L1-2)\n",
        "    zn3 = random.randint(-20, 20)\n",
        "    zn4 = random.randint(-20, 20)\n",
        "    if f:\n",
        "        print(f'1 import numpy as np\\n2 A = np.zeros({L1}) + {x1}\\n3 A[-1] = {zn1}\\n4 A[-1] = {zn2}\\n5 b = {b}\\n6 A[b] = {zn3}\\n7 A[b + 1] = {zn4}\\n8 print(A*2)')\n",
        "    else:\n",
        "        print(f'import numpy as np\\nA = np.zeros({L1}) + {x1}\\nA[-1] = {zn1}\\nA[-1] = {zn2}\\nb = {b}\\nA[b] = {zn3}\\nA[b + 1] = {zn4}\\nprint(A*2)')\n",
        "\n",
        "def zad_3(f=1):\n",
        "    r1 = random.randint(5, 20)\n",
        "    a = random.randint(-5, 7)\n",
        "    b = random.randint(-5, 7)\n",
        "    c = random.randint(-5, 7)\n",
        "    b = random.randint(-5, 7)\n",
        "    L = ['a', 'b', 'c', a, b, c]\n",
        "    L_r = random.choices(L, k=3)\n",
        "    if f:\n",
        "        print(f'1 def f(a, b, c):\\n2    return {r1}\\n3 \\n4 \\n5 a = {a}\\n6 b = {b}\\n7 c = {c}\\n8 print( f({L_r[0]}, {L_r[1]}, {L_r[2]}) * 2)')\n",
        "    else:\n",
        "        print(f'def f(a, b, c):\\n   return {r1}\\n\\n\\na = {a}\\nb = {b}\\nc = {c}\\nprint( f({L_r[0]}, {L_r[1]}, {L_r[2]}) * 2)')\n",
        "\n",
        "def zad_4(f=1):\n",
        "    r1 = random.randint(1, 7)\n",
        "    abc = random.choices(['a', 'b', 'c'], k=2)\n",
        "    f1 = random.choice(['+', '*', '-'])\n",
        "    f2 = random.choice(['+', '*', '-'])\n",
        "    a = random.randint(-20, 20)\n",
        "    b = random.randint(-20, 20)\n",
        "    c = random.randint(-20, 20)\n",
        "    L = ['a', 'b', 'c', a, b, c, 1, 2, 3, 4, 5, 6, 7]\n",
        "    L_r = random.choices(L, k=3)\n",
        "    if f:\n",
        "        print(f'1 def f(a, b, c):\\n2    return a {f1} b {f2} {r1}\\n3 \\n4 \\n5 a = {a}\\n6 b = {b}\\n7 c = {c}\\n8 print( f({L_r[0]}, {L_r[1]}, {L_r[2]}) * 2)')\n",
        "    else:\n",
        "        print(f'def f(a, b, c):\\n   return a {f1} b {f2} {r1}\\n\\n\\na = {a}\\nb = {b}\\nc = {c}\\nprint( f({L_r[0]}, {L_r[1]}, {L_r[2]}) * 2)')\n",
        "\n",
        "def zad_5(f=1):\n",
        "    r1 = random.randint(1, 7)\n",
        "    abc = random.choices(['a', 'b', 'c'], k=2)\n",
        "    f1 = random.choice(['+', '*', '-'])\n",
        "    f2 = random.choice(['+', '*', '-'])\n",
        "    a = random.randint(-20, 20)\n",
        "    b = random.randint(-20, 20)\n",
        "    c = random.randint(-20, 20)\n",
        "    L = ['a', 'b', 'c', a, b, c, 1, 2, 3, 4, 5, 6, 7]\n",
        "    L_r = random.choices(L, k=3)\n",
        "    if f:\n",
        "        print(f'1 def f(a, b, c):\\n2    return (a {f1} b {f2} {r1})/2\\n3 \\n4 \\n5 a = {a}\\n6 b = {b}\\n7 c = {c}\\n8 print( f({L_r[0]}, {L_r[1]}, {L_r[2]}) * 2)')\n",
        "    else:\n",
        "        print(f'def f(a, b, c):\\n   return (a {f1} b {f2} {r1})/2\\n\\n\\na = {a}\\nb = {b}\\nc = {c}\\nprint( f({L_r[0]}, {L_r[1]}, {L_r[2]}) * 2)')\n",
        "\n",
        "def zad_6(f=1):\n",
        "    r1 = random.randint(1, 7)\n",
        "    abc = random.choices(['a', 'b', 'c'], k=2)\n",
        "    f1 = random.choice(['+', '*', '-'])\n",
        "    f2 = random.choice(['+', '*', '-'])\n",
        "    a = random.randint(-20, 20)\n",
        "    b = random.randint(-20, 20)\n",
        "    c = random.randint(-20, 20)\n",
        "    L1 = random.randint(4, 6)\n",
        "    L = ['a', 'b', 'c', a, b, c, 1, 2, 3, 4, 5, 6, 7]\n",
        "    L_r = random.choices(L, k=2)\n",
        "    L_r.append('i')\n",
        "    random.shuffle(L_r)\n",
        "    if f:\n",
        "        print(f'1 def f(a, b, c):\\n2    return {abc[0]} {f1} {abc[1]} {f2} {r1}\\n3 \\n4 \\n5 a = {a}\\n6 b = {b}\\n7 c = {c}\\n8 L = [ ]\\n9 for i in range({L1}):\\n10    L.append( f({L_r[0]}, {L_r[1]}, {L_r[2]}))\\n11 print(L * 2)')\n",
        "    else:\n",
        "        print(f'def f(a, b, c):\\n   return {abc[0]} {f1} {abc[1]} {f2} {r1}\\n\\n\\na = {a}\\nb = {b}\\nc = {c}\\nL = [ ]\\nfor i in range({L1}):\\n   L.append( f({L_r[0]}, {L_r[1]}, {L_r[2]}))\\nprint(L * 2)')\n",
        ""
      ],
      "metadata": {
        "id": "Hz-Q6zSrSXY9"
      },
      "execution_count": 32,
      "outputs": []
    },
    {
      "cell_type": "markdown",
      "source": [
        "#Вызов функции"
      ],
      "metadata": {
        "id": "RZ1xQ8lxIU_2"
      }
    },
    {
      "cell_type": "code",
      "source": [
        "zad_1(0)\n",
        "print('1________1________1')\n",
        "zad_2(0)\n",
        "print('2________2________2')\n",
        "zad_3(0)\n",
        "print('3________3________3')\n",
        "zad_4(0)\n",
        "print('4________4________4')\n",
        "zad_5(0)\n",
        "print('5________5________5')\n",
        "# print('\\n')\n",
        "zad_6(0)\n",
        "print('6________6________6')"
      ],
      "metadata": {
        "colab": {
          "base_uri": "https://localhost:8080/"
        },
        "id": "w3SFgomSWrwL",
        "outputId": "baad6611-2c89-49a3-fa41-f80ebba490bb"
      },
      "execution_count": 33,
      "outputs": [
        {
          "output_type": "stream",
          "name": "stdout",
          "text": [
            "L = [0, 3] * 6\n",
            "L[-1] = -1\n",
            "L[-1] = 11\n",
            "a = 2\n",
            "L[a] = 2\n",
            "L[a + 1] = 5\n",
            "print(L*2)\n",
            "1________1________1\n",
            "import numpy as np\n",
            "A = np.zeros(5) + 6\n",
            "A[-1] = 16\n",
            "A[-1] = -20\n",
            "b = 2\n",
            "A[b] = -20\n",
            "A[b + 1] = -5\n",
            "print(A*2)\n",
            "2________2________2\n",
            "def f(a, b, c):\n",
            "   return 6\n",
            "\n",
            "\n",
            "a = 6\n",
            "b = -3\n",
            "c = 6\n",
            "print( f(a, -3, c) * 2)\n",
            "3________3________3\n",
            "def f(a, b, c):\n",
            "   return a - b + 3\n",
            "\n",
            "\n",
            "a = -13\n",
            "b = 11\n",
            "c = -11\n",
            "print( f(-13, 5, 4) * 2)\n",
            "4________4________4\n",
            "def f(a, b, c):\n",
            "   return (a - b + 3)/2\n",
            "\n",
            "\n",
            "a = 14\n",
            "b = 10\n",
            "c = -1\n",
            "print( f(14, 14, 7) * 2)\n",
            "5________5________5\n",
            "def f(a, b, c):\n",
            "   return b + a * 4\n",
            "\n",
            "\n",
            "a = -13\n",
            "b = -18\n",
            "c = 11\n",
            "L = [ ]\n",
            "for i in range(5):\n",
            "   L.append( f(a, 3, i))\n",
            "print(L * 2)\n",
            "6________6________6\n"
          ]
        }
      ]
    },
    {
      "cell_type": "code",
      "source": [
        "#Проверка текста функции"
      ],
      "metadata": {
        "id": "AU5ahX-WIa_N"
      },
      "execution_count": null,
      "outputs": []
    },
    {
      "cell_type": "code",
      "source": [
        "L = [0, 0] * 6\n",
        "L[-1] = 11\n",
        "L[-1] = 2\n",
        "a = 5\n",
        "L[a] = -20\n",
        "L[a + 1] = -15\n",
        "print(L*2)"
      ],
      "metadata": {
        "colab": {
          "base_uri": "https://localhost:8080/"
        },
        "id": "PdGW9NM-BLPU",
        "outputId": "2fefedc1-baac-48eb-be1f-96e96ce1701e"
      },
      "execution_count": 29,
      "outputs": [
        {
          "output_type": "stream",
          "name": "stdout",
          "text": [
            "[0, 0, 0, 0, 0, -20, -15, 0, 0, 0, 0, 2, 0, 0, 0, 0, 0, -20, -15, 0, 0, 0, 0, 2]\n"
          ]
        }
      ]
    }
  ]
}